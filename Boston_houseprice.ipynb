{
  "nbformat": 4,
  "nbformat_minor": 0,
  "metadata": {
    "colab": {
      "name": "Boston_houseprice.ipynb",
      "provenance": [],
      "authorship_tag": "ABX9TyM9AlNVBJ7a3MMtdFwxRk0F",
      "include_colab_link": true
    },
    "kernelspec": {
      "name": "python3",
      "display_name": "Python 3"
    },
    "language_info": {
      "name": "python"
    }
  },
  "cells": [
    {
      "cell_type": "markdown",
      "metadata": {
        "id": "view-in-github",
        "colab_type": "text"
      },
      "source": [
        "<a href=\"https://colab.research.google.com/github/viswambhar-yasa/Boston_Housing_price/blob/main/Boston_houseprice.ipynb\" target=\"_parent\"><img src=\"https://colab.research.google.com/assets/colab-badge.svg\" alt=\"Open In Colab\"/></a>"
      ]
    },
    {
      "cell_type": "markdown",
      "metadata": {
        "id": "ZAxyTrrdD0Ui"
      },
      "source": [
        "Prediction of House prices in Boston based on data from 1970."
      ]
    },
    {
      "cell_type": "code",
      "metadata": {
        "id": "eUAO-ZsfDj9-"
      },
      "source": [
        "# importing important libraries \n",
        "import tensorflow as tf\n",
        "import tensorflow.keras as tfk\n",
        "import numpy as np\n",
        "import matplotlib.pyplot as plt"
      ],
      "execution_count": null,
      "outputs": []
    },
    {
      "cell_type": "code",
      "metadata": {
        "colab": {
          "base_uri": "https://localhost:8080/",
          "height": 52
        },
        "id": "IloqkMwwEHgR",
        "outputId": "a5e750be-eb16-4bb5-defa-6919151fc6ca"
      },
      "source": [
        "print(\"TensorFlow Version\")\n",
        "tf.__version__"
      ],
      "execution_count": null,
      "outputs": [
        {
          "output_type": "stream",
          "text": [
            "TensorFlow Version\n"
          ],
          "name": "stdout"
        },
        {
          "output_type": "execute_result",
          "data": {
            "application/vnd.google.colaboratory.intrinsic+json": {
              "type": "string"
            },
            "text/plain": [
              "'2.5.0'"
            ]
          },
          "metadata": {
            "tags": []
          },
          "execution_count": 27
        }
      ]
    },
    {
      "cell_type": "markdown",
      "metadata": {
        "id": "BlwN8JRtEOWb"
      },
      "source": [
        "This is a dataset taken from the StatLib library which is maintained at `Carnegie Mellon University`.\n",
        "\n",
        "Samples contain `13 attributes` of houses at different locations around the Boston suburbs in the late `1970s`. Targets are the median values of the houses at a location (in k$)."
      ]
    },
    {
      "cell_type": "code",
      "metadata": {
        "id": "baPBGpbsEMWx"
      },
      "source": [
        "#importing datasets\n",
        "(X_tr,Y_tr),(X_test,Y_test)=tfk.datasets.boston_housing.load_data(path='boston_housing.csv',test_split=0.25)"
      ],
      "execution_count": null,
      "outputs": []
    },
    {
      "cell_type": "code",
      "metadata": {
        "colab": {
          "base_uri": "https://localhost:8080/"
        },
        "id": "hsStt81lE8xn",
        "outputId": "9c664f81-569c-4897-9d8d-314f918374aa"
      },
      "source": [
        "(m,n)=X_tr.shape\n",
        "print('Number of features :',n)"
      ],
      "execution_count": null,
      "outputs": [
        {
          "output_type": "stream",
          "text": [
            "Number of features : 13\n"
          ],
          "name": "stdout"
        }
      ]
    },
    {
      "cell_type": "code",
      "metadata": {
        "colab": {
          "base_uri": "https://localhost:8080/"
        },
        "id": "PLWrWxf0Fb_X",
        "outputId": "fe48ffa4-e378-49c4-820c-772aa7f0f82d"
      },
      "source": [
        "print('sample data')\n",
        "X_tr[0,:]"
      ],
      "execution_count": null,
      "outputs": [
        {
          "output_type": "stream",
          "text": [
            "sample data\n"
          ],
          "name": "stdout"
        },
        {
          "output_type": "execute_result",
          "data": {
            "text/plain": [
              "array([  1.23247,   0.     ,   8.14   ,   0.     ,   0.538  ,   6.142  ,\n",
              "        91.7    ,   3.9769 ,   4.     , 307.     ,  21.     , 396.9    ,\n",
              "        18.72   ])"
            ]
          },
          "metadata": {
            "tags": []
          },
          "execution_count": 30
        }
      ]
    },
    {
      "cell_type": "markdown",
      "metadata": {
        "id": "tuE7kvxUFtmu"
      },
      "source": [
        "Data preprocessing\n",
        "1. Normalization"
      ]
    },
    {
      "cell_type": "code",
      "metadata": {
        "colab": {
          "base_uri": "https://localhost:8080/"
        },
        "id": "c0FcQ-ZoFmT5",
        "outputId": "fe840256-328e-4475-d1b0-aee69e62ebe1"
      },
      "source": [
        "from sklearn.preprocessing import MinMaxScaler \n",
        "normalization=MinMaxScaler()\n",
        "X_norm_tr=normalization.fit_transform(X_tr)\n",
        "X_norm_test=normalization.fit_transform(X_test)\n",
        "X_norm_tr[0,:]"
      ],
      "execution_count": null,
      "outputs": [
        {
          "output_type": "execute_result",
          "data": {
            "text/plain": [
              "array([0.01378163, 0.        , 0.28152493, 0.        , 0.31481481,\n",
              "       0.49980635, 0.91452111, 0.29719123, 0.13043478, 0.22753346,\n",
              "       0.89361702, 1.        , 0.51422518])"
            ]
          },
          "metadata": {
            "tags": []
          },
          "execution_count": 31
        }
      ]
    },
    {
      "cell_type": "markdown",
      "metadata": {
        "id": "m11OLB_tGjOQ"
      },
      "source": [
        "# Creating deep NN model"
      ]
    },
    {
      "cell_type": "code",
      "metadata": {
        "id": "1-L50e3iF6a7"
      },
      "source": [
        "housing_model=tfk.Sequential([\n",
        "                              tfk.layers.Dense(1,input_shape=[13,],activation='relu',name='hidden_layer_1'),\n",
        "                              tfk.layers.Dense(1,input_shape=[1,],name=\"ouput_layer\")\n",
        "],name='Boston_housing_model')\n",
        "\n",
        "housing_model.compile(loss=tfk.losses.mae,\n",
        "                      optimizer=tfk.optimizers.Adam(learning_rate=0.01))\n",
        "\n",
        "housing_model_hist=housing_model.fit(X_norm_tr,Y_tr,epochs=150,verbose=0)"
      ],
      "execution_count": null,
      "outputs": []
    },
    {
      "cell_type": "code",
      "metadata": {
        "colab": {
          "base_uri": "https://localhost:8080/"
        },
        "id": "LdLtXEHwHiNE",
        "outputId": "f9cb876b-9f5a-4bcc-fd46-06fa37c4b4fd"
      },
      "source": [
        "housing_model.evaluate(X_norm_test,Y_test)"
      ],
      "execution_count": null,
      "outputs": [
        {
          "output_type": "stream",
          "text": [
            "4/4 [==============================] - 0s 3ms/step - loss: 3.3021\n"
          ],
          "name": "stdout"
        },
        {
          "output_type": "execute_result",
          "data": {
            "text/plain": [
              "3.302088975906372"
            ]
          },
          "metadata": {
            "tags": []
          },
          "execution_count": 39
        }
      ]
    },
    {
      "cell_type": "code",
      "metadata": {
        "colab": {
          "base_uri": "https://localhost:8080/",
          "height": 295
        },
        "id": "xCNYXFY9Ho-O",
        "outputId": "57bf5430-fee7-4806-c5b7-f971d0b0b9df"
      },
      "source": [
        "plt.plot(housing_model_hist.epoch,housing_model_hist.history[\"loss\"])\n",
        "plt.title('Learning curve')\n",
        "plt.xlabel('iteration')\n",
        "plt.ylabel('loss')\n",
        "plt.grid()"
      ],
      "execution_count": null,
      "outputs": [
        {
          "output_type": "display_data",
          "data": {
            "image/png": "[encoded data removed]",
            "text/plain": [
              "<Figure size 432x288 with 1 Axes>"
            ]
          },
          "metadata": {
            "tags": [],
            "needs_background": "light"
          }
        }
      ]
    },
    {
      "cell_type": "code",
      "metadata": {
        "colab": {
          "base_uri": "https://localhost:8080/"
        },
        "id": "-GpNAjwfH74l",
        "outputId": "f78addcd-937b-4b41-a921-03bb0932ce2b"
      },
      "source": [
        "Y_predict=housing_model.predict(X_norm_test)\n",
        "print('Predicted price',Y_predict[0,0])\n",
        "print('Actual price',Y_test[0])"
      ],
      "execution_count": null,
      "outputs": [
        {
          "output_type": "stream",
          "text": [
            "Predicted price 29.568163\n",
            "Actual price 29.8\n"
          ],
          "name": "stdout"
        }
      ]
    },
    {
      "cell_type": "markdown",
      "metadata": {
        "id": "jK7KMudYJDgY"
      },
      "source": [
        "Improving the model by adding more hidden layer and unit"
      ]
    },
    {
      "cell_type": "code",
      "metadata": {
        "id": "H5uo61wJI53p"
      },
      "source": [
        "housing_model_1=tfk.Sequential([\n",
        "                              tfk.layers.Dense(10,input_shape=[13,],activation='relu',name='hidden_layer_1'),\n",
        "                              tfk.layers.Dense(5,input_shape=[10,],activation='relu',name='hidden_layer_2'),\n",
        "                              tfk.layers.Dense(1,input_shape=[5,],name=\"ouput_layer\")\n",
        "],name='Boston_housing_model_1')\n",
        "\n",
        "housing_model_1.compile(loss=tfk.losses.mae,\n",
        "                      optimizer=tfk.optimizers.Adam(learning_rate=0.001))\n",
        "\n",
        "housing_model_hist_1=housing_model_1.fit(X_norm_tr,Y_tr,epochs=250,verbose=0)"
      ],
      "execution_count": null,
      "outputs": []
    },
    {
      "cell_type": "code",
      "metadata": {
        "colab": {
          "base_uri": "https://localhost:8080/"
        },
        "id": "s3TT_TuFJY8i",
        "outputId": "011ec81e-d0b8-4352-ea6f-6f05f985f0be"
      },
      "source": [
        "housing_model_1.evaluate(X_norm_test,Y_test)"
      ],
      "execution_count": null,
      "outputs": [
        {
          "output_type": "stream",
          "text": [
            "4/4 [==============================] - 0s 3ms/step - loss: 3.2228\n"
          ],
          "name": "stdout"
        },
        {
          "output_type": "execute_result",
          "data": {
            "text/plain": [
              "3.2227983474731445"
            ]
          },
          "metadata": {
            "tags": []
          },
          "execution_count": 78
        }
      ]
    },
    {
      "cell_type": "code",
      "metadata": {
        "colab": {
          "base_uri": "https://localhost:8080/",
          "height": 295
        },
        "id": "rK-jy5HqJcqr",
        "outputId": "349e9586-4017-4dfa-fdc0-9035e774f12f"
      },
      "source": [
        "plt.plot(housing_model_hist_1.epoch,housing_model_hist_1.history[\"loss\"])\n",
        "plt.title('Learning curve for model 2')\n",
        "plt.xlabel('iteration')\n",
        "plt.ylabel('loss')\n",
        "plt.grid()"
      ],
      "execution_count": null,
      "outputs": [
        {
          "output_type": "display_data",
          "data": {
            "image/png": "[encoded data removed]",
            "text/plain": [
              "<Figure size 432x288 with 1 Axes>"
            ]
          },
          "metadata": {
            "tags": [],
            "needs_background": "light"
          }
        }
      ]
    },
    {
      "cell_type": "code",
      "metadata": {
        "colab": {
          "base_uri": "https://localhost:8080/"
        },
        "id": "smRiv-xfJj9R",
        "outputId": "ccf77c29-3f78-45da-8719-f9189bd3dc95"
      },
      "source": [
        "print('For Deep NN')\n",
        "Y_predict=housing_model_1.predict(X_norm_test)\n",
        "print('Predicted price',Y_predict[0,0])\n",
        "print('Actual price',Y_test[0])"
      ],
      "execution_count": null,
      "outputs": [
        {
          "output_type": "stream",
          "text": [
            "For Deep NN\n",
            "Predicted price 29.98348\n",
            "Actual price 29.8\n"
          ],
          "name": "stdout"
        }
      ]
    },
    {
      "cell_type": "code",
      "metadata": {
        "colab": {
          "base_uri": "https://localhost:8080/"
        },
        "id": "8enj9W6hKQRk",
        "outputId": "bad58a58-48af-4bae-94a8-013b9d6b3c0a"
      },
      "source": [
        "housing_model_1.summary()"
      ],
      "execution_count": null,
      "outputs": [
        {
          "output_type": "stream",
          "text": [
            "Model: \"Boston_housing_model_1\"\n",
            "_________________________________________________________________\n",
            "Layer (type)                 Output Shape              Param #   \n",
            "=================================================================\n",
            "hidden_layer_1 (Dense)       (None, 10)                140       \n",
            "_________________________________________________________________\n",
            "hidden_layer_2 (Dense)       (None, 5)                 55        \n",
            "_________________________________________________________________\n",
            "ouput_layer (Dense)          (None, 1)                 6         \n",
            "=================================================================\n",
            "Total params: 201\n",
            "Trainable params: 201\n",
            "Non-trainable params: 0\n",
            "_________________________________________________________________\n"
          ],
          "name": "stdout"
        }
      ]
    },
    {
      "cell_type": "code",
      "metadata": {
        "id": "Br6j9oGKKova"
      },
      "source": [
        "housing_model_1.save(filepath='Boston_house_prediction_model.h5')"
      ],
      "execution_count": null,
      "outputs": []
    },
    {
      "cell_type": "code",
      "metadata": {
        "id": "GETu5mz3KzlV"
      },
      "source": [
        ""
      ],
      "execution_count": null,
      "outputs": []
    }
  ]
}